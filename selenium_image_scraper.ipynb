{
 "cells": [
  {
   "cell_type": "markdown",
   "metadata": {},
   "source": [
    "# Selenium Image Scraper"
   ]
  },
  {
   "cell_type": "code",
   "execution_count": 81,
   "metadata": {},
   "outputs": [],
   "source": [
    "# modified function code derived from'https://github.com/rmei97/shiba_vs_jindo/blob/master/image_scraper.ipynb'\n",
    "\n",
    "def null_count(list_):\n",
    "    '''This will take in a list of scraped image links, counts/returns \n",
    "        how many null values the list contains. \n",
    "    '''\n",
    "    null_count = 0\n",
    "    \n",
    "    for element in list_:\n",
    "        if element == None:\n",
    "            null_count += 1\n",
    "            \n",
    "    return null_count\n",
    "\n",
    "\n",
    "def get_img_links(driver, max_imgs):\n",
    "    '''Takes in the selenium driver, and the max number of images wanted to scrape, \n",
    "    finds the image links and makes them into a list of 'src' links and a list of 'data-src' links. \n",
    "    Then uses the null_count function to weigh which one has least amount of nulls.\n",
    "    Replaces each null value in that index position of that list with one from the second list. \n",
    "    If the list is longer than the max_imgs param, returns up to the max amount from the list.\n",
    "    If list length is less than max_imgs, returns full list.\n",
    "    '''\n",
    "    image_links = driver.find_elements_by_class_name('rg_i.Q4LuWd')\n",
    "\n",
    "    src_links = [image_links[i].get_attribute('src') for i in range(len(image_links))]\n",
    "    data_src_links = [image_links[i].get_attribute('data-src') for i in range(len(image_links))]\n",
    "\n",
    "    nc_src = null_count(src_links)\n",
    "    nc_datasrc = null_count(data_src_links)\n",
    "    \n",
    "    if nc_src > nc_datasrc:\n",
    "        for i,element in enumerate(data_src_links):\n",
    "            if element == None:\n",
    "                data_src_links[i] = src_links[i]\n",
    "        \n",
    "        if len(data_src_links) > max_imgs:\n",
    "            return data_src_links[:max_imgs]\n",
    "        else:\n",
    "            return data_src_links\n",
    "        \n",
    "    \n",
    "    else: \n",
    "        for i,element in enumerate(src_links):\n",
    "            if element == None:\n",
    "                src_links[i] = data_src_links[i]\n",
    "        \n",
    "        if len(src_links) > max_imgs:\n",
    "            return src_links[:max_imgs]\n",
    "        else:\n",
    "            return src_links\n",
    "\n",
    "# def urllibfunction(link_list, data_name):\n",
    "#     '''Takes in link list, uses urllib.request to retrieve each image from corresponding link, \n",
    "#         and renames it using data_name param entered in image_scrape function. \n",
    "#     '''\n",
    "#     sleeps = [1,0.5,1.5,0.7]\n",
    "#     for i,link in enumerate(link_list):\n",
    "\n",
    "#         name = data_name+f'{i}.jpeg'\n",
    "\n",
    "#         urllib.request.urlretrieve(link, name)\n",
    "#         time.sleep(np.random.choice(sleeps))\n",
    "\n",
    "\n",
    "\n",
    "def image_scrape(data_name, url, max_imgs=1000):\n",
    "    \"\"\"data_name = which classifier you're scraping, enter as string\n",
    "    url = url to scrape, enter as string,\n",
    "    path = directory to save imgs to, enter as string,\n",
    "    max_imgs = set max number of imgs you want, default is 1000\"\"\"\n",
    "    \n",
    "    import urllib.request\n",
    "    import time\n",
    "    from selenium import webdriver\n",
    "    import numpy as np\n",
    "    import os\n",
    "    from tqdm import tqdm\n",
    "    tqdm._instances.clear()\n",
    "    \n",
    "\n",
    "    #instantiate driver\n",
    "    driver = webdriver.Chrome('chromedriver')\n",
    "    driver.get(url)\n",
    "\n",
    "    page_scroll_sleep = 2\n",
    "\n",
    "    # Get scroll height\n",
    "    last_height = driver.execute_script(\"return document.body.scrollHeight\")\n",
    "\n",
    "    while True:\n",
    "        # Scroll down to bottom\n",
    "        driver.execute_script(\"window.scrollTo(0, document.body.scrollHeight);\")\n",
    "\n",
    "        # Wait to load page\n",
    "        time.sleep(page_scroll_sleep)\n",
    "\n",
    "        # Calculate new scroll height and compare with last scroll height\n",
    "        new_height = driver.execute_script(\"return document.body.scrollHeight\")\n",
    "\n",
    "        if new_height == last_height:\n",
    "        #break #insert press load more\n",
    "            try:\n",
    "                element = driver.find_elements_by_class_name('mye4qd') #returns list\n",
    "                element[0].click()\n",
    "            except:\n",
    "                break\n",
    "        last_height = new_height\n",
    "    \n",
    "    # gets link list of images\n",
    "    links = get_img_links(driver, max_imgs)\n",
    "            \n",
    "    sleeps = [1,0.5,1.5,0.7]\n",
    "    \n",
    "    # urllib save images into folder and renames using data_name string\n",
    "    for i,link in enumerate(tqdm(links)):\n",
    "\n",
    "        name = data_name+f'{i}.jpeg'\n",
    "\n",
    "        urllib.request.urlretrieve(link, name)\n",
    "        time.sleep(np.random.choice(sleeps))\n",
    "        \n",
    "    driver.quit()"
   ]
  },
  {
   "cell_type": "code",
   "execution_count": 51,
   "metadata": {},
   "outputs": [
    {
     "name": "stdout",
     "output_type": "stream",
     "text": [
      "/Volumes/HD storage/Documents/Flatiron/Modules/v2.1mod5_capstone/mod5-capstone-project\r\n"
     ]
    }
   ],
   "source": [
    "# show current working directory\n",
    "!pwd"
   ]
  },
  {
   "cell_type": "code",
   "execution_count": 78,
   "metadata": {},
   "outputs": [
    {
     "name": "stdout",
     "output_type": "stream",
     "text": [
      "/Volumes/HD storage/Documents/Flatiron/Modules/v2.1mod5_capstone\r\n"
     ]
    }
   ],
   "source": [
    "# enter directory to store image folder\n",
    "import os\n",
    "os.chdir('..')\n",
    "!pwd"
   ]
  },
  {
   "cell_type": "code",
   "execution_count": 43,
   "metadata": {},
   "outputs": [],
   "source": [
    "# make a folder for images, name whatever you want\n",
    "!mkdir example_images"
   ]
  },
  {
   "cell_type": "code",
   "execution_count": 79,
   "metadata": {},
   "outputs": [
    {
     "name": "stdout",
     "output_type": "stream",
     "text": [
      "/Volumes/HD storage/Documents/Flatiron/Modules/v2.1mod5_capstone/example_images\r\n"
     ]
    }
   ],
   "source": [
    "# choose image folder as working directory\n",
    "import os\n",
    "os.chdir('example_images')\n",
    "!pwd"
   ]
  },
  {
   "cell_type": "code",
   "execution_count": 82,
   "metadata": {},
   "outputs": [
    {
     "name": "stdout",
     "output_type": "stream",
     "text": [
      "/Volumes/HD storage/Documents/Flatiron/Modules/v2.1mod5_capstone/example_images/land\r\n"
     ]
    },
    {
     "data": {
      "text/plain": [
       "'[i] SCRAPING LAND IMAGES'"
      ]
     },
     "metadata": {},
     "output_type": "display_data"
    },
    {
     "name": "stderr",
     "output_type": "stream",
     "text": [
      " 39%|███▉      | 334/858 [07:34<11:52,  1.36s/it]\n",
      "  3%|▎         | 29/866 [16:00<7:41:55, 33.11s/it]\n",
      " 11%|█▏        | 97/858 [13:32<1:46:16,  8.38s/it]\n",
      "100%|██████████| 858/858 [15:17<00:00,  1.07s/it]\n"
     ]
    },
    {
     "name": "stdout",
     "output_type": "stream",
     "text": [
      "/Volumes/HD storage/Documents/Flatiron/Modules/v2.1mod5_capstone/example_images/river_delta\r\n"
     ]
    },
    {
     "data": {
      "text/plain": [
       "'[i] SCRAPING DELTA IMAGES'"
      ]
     },
     "metadata": {},
     "output_type": "display_data"
    },
    {
     "name": "stderr",
     "output_type": "stream",
     "text": [
      "100%|██████████| 545/545 [09:39<00:00,  1.06s/it]\n"
     ]
    }
   ],
   "source": [
    "import os\n",
    "\n",
    "# scrape images\n",
    "land_url = 'https://www.google.com/search?hl=en&tbs=simg:CAES6wEJKEu1gh2na2Ua3wELELCMpwgaYgpgCAMSKIce-grLFdIV0RWGHv8K4gvOFswW3TfyN5441TfTPtk31jflIvk-1j4aMA6IKyiDkAQpwLJ7MMmlUArNfMlSj7N1ZmonlXv7jSf5F-_1WX-X6HpwmniQPXpJaZiAEDAsQjq7-CBoKCggIARIE5QPwiQwLEJ3twQkaWAoVCgNtYXDapYj2AwoKCC9tLzA0X3RiCiUKEmFlcmlhbCBwaG90b2dyYXBoedqliPYDCwoJL20vMDF3NWNfChgKBWJlaWdl2qWI9gMLCgkvbS8wM2h6Y3MM&q=map&tbm=isch&sa=X&ved=2ahUKEwjW4tvRrN_qAhVTIjQIHf4YB7MQsw56BAgNEAE&biw=1430&bih=761'\n",
    "delta_url = 'https://www.google.com/search?q=river+delta+satellite&hl=en&source=lnms&tbm=isch&sa=X&ved=2ahUKEwj5u5ai8PrqAhWDLn0KHbjKDjMQ_AUoAXoECGIQAw&biw=1430&bih=761'\n",
    "\n",
    "# make a folder for land tiles\n",
    "!mkdir land\n",
    "os.chdir('land')\n",
    "\n",
    "display('[i] SCRAPING LAND IMAGES')\n",
    "image_scrape('land', land_url, max_imgs=1000)\n",
    "\n",
    "# go back to images folder\n",
    "os.chdir('..')\n",
    "\n",
    "# create river_delta folder\n",
    "!mkdir river_delta\n",
    "os.chdir('river_delta')\n",
    "\n",
    "display('[i] SCRAPING DELTA IMAGES')\n",
    "image_scrape('river_delta', delta_url, max_imgs=1000)\n",
    "\n",
    "# go back to images folder\n",
    "os.chdir('..')"
   ]
  },
  {
   "cell_type": "markdown",
   "metadata": {},
   "source": [
    "# move files into separate folders"
   ]
  },
  {
   "cell_type": "code",
   "execution_count": 87,
   "metadata": {},
   "outputs": [
    {
     "name": "stdout",
     "output_type": "stream",
     "text": [
      "/Volumes/HD storage/Documents/Flatiron/Modules/v2.1mod5_capstone/example_images\r\n"
     ]
    }
   ],
   "source": [
    "!pwd"
   ]
  },
  {
   "cell_type": "code",
   "execution_count": 88,
   "metadata": {},
   "outputs": [
    {
     "name": "stdout",
     "output_type": "stream",
     "text": [
      "/Volumes/HD storage/Documents/Flatiron/Modules/v2.1mod5_capstone/example_images\r\n"
     ]
    }
   ],
   "source": [
    "!mkdir train\n",
    "!mkdir test\n",
    "\n",
    "os.chdir('train')\n",
    "!mkdir land\n",
    "!mkdir river_delta\n",
    "\n",
    "os.chdir('..')\n",
    "os.chdir('test')\n",
    "!mkdir land\n",
    "!mkdir river_delta\n",
    "\n",
    "os.chdir('..')\n",
    "!pwd"
   ]
  },
  {
   "cell_type": "code",
   "execution_count": 89,
   "metadata": {},
   "outputs": [],
   "source": [
    "#  Set up directory paths\n",
    "train_dir_land = 'train/land'\n",
    "train_dir_delta = 'train/river_delta'\n",
    "test_dir_land = 'test/land'\n",
    "test_dir_delta = 'test/river_delta'"
   ]
  },
  {
   "cell_type": "code",
   "execution_count": 90,
   "metadata": {},
   "outputs": [],
   "source": [
    "import shutil\n",
    "import os\n",
    "import random\n",
    "\n",
    "list_ = ['land/', 'river_delta/']\n",
    "test_list = [test_dir_land, test_dir_delta]\n",
    "train_list = [train_dir_land, train_dir_delta]\n",
    "\n",
    "for i in range(len(list_)):\n",
    "\n",
    "    files = os.listdir(list_[i])\n",
    "    total = len(files)\n",
    "    \n",
    "    # moves 25% of files to test folders, and 75% to training folders for each class\n",
    "    sample_list = random.sample(files, int(total / 4))\n",
    "    for file in sample_list: \n",
    "        shutil.move(list_[i]+file, test_list[i])\n",
    "    remaining_files = os.listdir(list_[i])\n",
    "    for file in remaining_files: \n",
    "        shutil.move(list_[i]+file, train_list[i])"
   ]
  },
  {
   "cell_type": "code",
   "execution_count": 91,
   "metadata": {},
   "outputs": [
    {
     "name": "stdout",
     "output_type": "stream",
     "text": [
      "/Volumes/HD storage/Documents/Flatiron/Modules/v2.1mod5_capstone/example_images\r\n"
     ]
    }
   ],
   "source": [
    "!pwd"
   ]
  },
  {
   "cell_type": "code",
   "execution_count": 92,
   "metadata": {},
   "outputs": [],
   "source": [
    "# remove empty land and river_delta folders\n",
    "!rmdir land\n",
    "!rmdir river_delta"
   ]
  },
  {
   "cell_type": "code",
   "execution_count": null,
   "metadata": {},
   "outputs": [],
   "source": []
  }
 ],
 "metadata": {
  "kernelspec": {
   "display_name": "Python [conda env:learn-env] *",
   "language": "python",
   "name": "conda-env-learn-env-py"
  },
  "language_info": {
   "codemirror_mode": {
    "name": "ipython",
    "version": 3
   },
   "file_extension": ".py",
   "mimetype": "text/x-python",
   "name": "python",
   "nbconvert_exporter": "python",
   "pygments_lexer": "ipython3",
   "version": "3.6.9"
  },
  "toc": {
   "base_numbering": 1,
   "nav_menu": {},
   "number_sections": true,
   "sideBar": true,
   "skip_h1_title": false,
   "title_cell": "Table of Contents",
   "title_sidebar": "Contents",
   "toc_cell": false,
   "toc_position": {},
   "toc_section_display": true,
   "toc_window_display": false
  }
 },
 "nbformat": 4,
 "nbformat_minor": 2
}
